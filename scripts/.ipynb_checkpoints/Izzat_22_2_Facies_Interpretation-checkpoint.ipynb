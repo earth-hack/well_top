{
 "cells": [
  {
   "cell_type": "code",
   "execution_count": 0,
   "metadata": {
    "colab": {},
    "colab_type": "code",
    "id": "sdtpivhAIFoy"
   },
   "outputs": [],
   "source": [
    "import numpy as np\n",
    "\n",
    "def auto_detect_facies(density, acoustic, PE):\n",
    "  \"\"\"\n",
    "  Simple euclidean nearest neighbour to auto detect facies given logs.\n",
    "  \n",
    "  Parameters\n",
    "  ----------\n",
    "  \n",
    "    density : float\n",
    "      Density log response.\n",
    "    acoustic : float\n",
    "      Acoustic log response.\n",
    "    PE : float\n",
    "      PE log response.\n",
    "      \n",
    "  Return\n",
    "  ------\n",
    "    detected_facies : {'SS','LS','SH','DL','AN','SL'}\n",
    "  \n",
    "  \"\"\"\n",
    "  \n",
    "  # wrap into coordinate\n",
    "  coord = np.asarray([density, acoustic, PE])\n",
    "  \n",
    "  # facies dictionary\n",
    "  facies_dict = {\n",
    "      'SS' : [2.65, 53, 1.81],\n",
    "      'LS' : [2.71, 47.5, 5.08],\n",
    "      'SH' : [2.5, 100, 3],\n",
    "      'DL' : [2.87, 43, 3.14],\n",
    "      'AN' : [2.98, 50, 5.06],\n",
    "      'SL' : [2.03, 67, 4.65],\n",
    "  }\n",
    "  \n",
    "  distances = {}\n",
    "  # calculate distance\n",
    "  for facies in facies_dict:\n",
    "    facies_coord = np.asarray(facies_dict[facies])\n",
    "    distances[facies] = np.linalg.norm(coord - facies_coord)\n",
    "  \n",
    "  # return the facies\n",
    "  return min(d, key=d.get)"
   ]
  },
  {
   "cell_type": "code",
   "execution_count": 0,
   "metadata": {
    "colab": {
     "base_uri": "https://localhost:8080/",
     "height": 122
    },
    "colab_type": "code",
    "id": "kWc1ukfNqJUD",
    "outputId": "ea846a50-9674-46a1-92f8-9fb25cb68b7f"
   },
   "outputs": [
    {
     "name": "stdout",
     "output_type": "stream",
     "text": [
      "Go to this URL in a browser: https://accounts.google.com/o/oauth2/auth?client_id=947318989803-6bn6qk8qdgf4n4g3pfee6491hc0brc4i.apps.googleusercontent.com&redirect_uri=urn%3Aietf%3Awg%3Aoauth%3A2.0%3Aoob&scope=email%20https%3A%2F%2Fwww.googleapis.com%2Fauth%2Fdocs.test%20https%3A%2F%2Fwww.googleapis.com%2Fauth%2Fdrive%20https%3A%2F%2Fwww.googleapis.com%2Fauth%2Fdrive.photos.readonly%20https%3A%2F%2Fwww.googleapis.com%2Fauth%2Fpeopleapi.readonly&response_type=code\n",
      "\n",
      "Enter your authorization code:\n",
      "··········\n",
      "Mounted at /content/gdrive\n"
     ]
    }
   ],
   "source": [
    "# mount to drive\n",
    "from google.colab import drive\n",
    "drive.mount('/content/gdrive')"
   ]
  },
  {
   "cell_type": "code",
   "execution_count": 0,
   "metadata": {
    "colab": {},
    "colab_type": "code",
    "id": "urjVTn2Jqfq8"
   },
   "outputs": [],
   "source": [
    "# path to my colab folder in EAGE Hackathon\n",
    "path = '/content/gdrive/My Drive/EAGE Hackathon/'"
   ]
  },
  {
   "cell_type": "code",
   "execution_count": 0,
   "metadata": {
    "colab": {},
    "colab_type": "code",
    "id": "HadhocATsbcY"
   },
   "outputs": [],
   "source": [
    ""
   ]
  }
 ],
 "metadata": {
  "colab": {
   "collapsed_sections": [],
   "name": "Izzat - 22/2 - Facies Interpretation.ipynb",
   "provenance": [],
   "version": "0.3.2"
  },
  "kernelspec": {
   "display_name": "Python 3",
   "name": "python3"
  }
 },
 "nbformat": 4,
 "nbformat_minor": 0
}

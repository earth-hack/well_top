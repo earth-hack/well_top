{
 "cells": [
  {
   "cell_type": "code",
   "execution_count": 1,
   "metadata": {},
   "outputs": [],
   "source": [
    "# Feb 24"
   ]
  },
  {
   "cell_type": "code",
   "execution_count": 2,
   "metadata": {},
   "outputs": [],
   "source": [
    "from fastai.tabular import *\n",
    "from fastai.basic_data import *\n",
    "from fastai.metrics import accuracy"
   ]
  },
  {
   "cell_type": "code",
   "execution_count": 3,
   "metadata": {},
   "outputs": [],
   "source": [
    "from tqdm import tqdm"
   ]
  },
  {
   "cell_type": "code",
   "execution_count": 4,
   "metadata": {},
   "outputs": [],
   "source": [
    "import pandas\n",
    "from tools import scoring_function\n",
    "from sklearn.metrics import classification_report, confusion_matrix"
   ]
  },
  {
   "cell_type": "code",
   "execution_count": 5,
   "metadata": {},
   "outputs": [],
   "source": [
    "# # For sands\n",
    "# target = 'sand'\n",
    "# class1 = 'SS'\n",
    "# class2 = 'LS'"
   ]
  },
  {
   "cell_type": "code",
   "execution_count": 6,
   "metadata": {},
   "outputs": [],
   "source": [
    "# For lith\n",
    "target = 'lith'\n",
    "class1 = 'Sand'\n",
    "class2 = 'Shale'"
   ]
  },
  {
   "cell_type": "code",
   "execution_count": 7,
   "metadata": {},
   "outputs": [],
   "source": [
    "f1_scores = []\n",
    "accuracy_scores = []\n",
    "confusion_matrices = []"
   ]
  },
  {
   "cell_type": "code",
   "execution_count": 8,
   "metadata": {},
   "outputs": [
    {
     "name": "stderr",
     "output_type": "stream",
     "text": [
      "100%|██████████| 10/10 [02:27<00:00, 14.56s/it]\n"
     ]
    }
   ],
   "source": [
    "for i in tqdm(range(10)):\n",
    "    ground_truths = pandas.read_csv('../data/with_lith_sand.csv', index_col=0)\n",
    "    ss = ground_truths[ground_truths[target] == class1].sample(frac=1)\n",
    "    ls = ground_truths[ground_truths[target] == class2].sample(frac=1)\n",
    "\n",
    "    # For sands\n",
    "    # stratified_sands = pandas.concat([ss.iloc[:3000], ls.iloc[:1000]], axis=0)\n",
    "    \n",
    "    # For lith\n",
    "    stratified_sands = pandas.concat([ss.iloc[:25000], ls.iloc[:25000]], axis=0)\n",
    "    \n",
    "    # It's easy to accidentally uncomment this by default\n",
    "    # Don't touch this line!\n",
    "    stratified_sands = stratified_sands.sample(frac=1)\n",
    "    \n",
    "    # For sands\n",
    "    # train_data = stratified_sands.iloc[0:2500]\n",
    "    # test_data = stratified_sands.iloc[2500:3000]\n",
    "\n",
    "    # For lith\n",
    "    train_data = stratified_sands.iloc[0:40000]\n",
    "    test_data = stratified_sands.iloc[40000:]\n",
    "    \n",
    "    pred_index = test_data.index\n",
    "    \n",
    "    test_classes = test_data[target].unique().tolist()\n",
    "    train_classes = train_data[target].unique().tolist()\n",
    "    print(test_classes, train_classes)\n",
    "    \n",
    "    dep_var = target\n",
    "    cat_names = [] #['well']\n",
    "    cont_names = ['DENS', 'DTS', 'GR', 'PEF', 'RESD', 'RESM', 'RESS', 'NEUT', 'SP']\n",
    "    # cont_names = ['tvdss', 'BS', 'CALI', 'DENS', 'DRHO', 'DTC', 'GR', 'NEUT', 'PEF','RESD', 'RESM', 'RESS', 'SP', 'DTS', 'GR_CORR','NEUT_CORR', 'RESD_CORR', 'RESS_CORR', 'TEMP', 'TENS']\n",
    "    procs = [FillMissing, Categorify, Normalize]\n",
    "    # procs = [FillMissing, Normalize]\n",
    "\n",
    "    test = TabularList.from_df(test_data, path='.', cat_names=cat_names, cont_names=cont_names)\n",
    "\n",
    "    data = (TabularList.from_df(train_data, path='.', cat_names=cat_names, cont_names=cont_names, procs=procs)\n",
    "                               .random_split_by_pct()\n",
    "                               .label_from_df(cols=dep_var)\n",
    "                               .add_test(test)\n",
    "                               .databunch())\n",
    "\n",
    "    learn = tabular_learner(data, layers=[200,100], metrics=[accuracy])\n",
    "    learn.fit(3)\n",
    "\n",
    "    softmax, _ = learn.get_preds(ds_type=DatasetType.Test)\n",
    "    preds = pandas.np.argmax(softmax, axis=1)\n",
    "    \n",
    "    # TODO: The classes don't align somehow\n",
    "    # Mismatch w/ validation accuracy that is constantly >98%\n",
    "    if test_classes[0] != train_classes[0]:\n",
    "        preds = 1 - preds\n",
    "        \n",
    "    y_true = test_data[target]\n",
    "    y_pred = pandas.Series(data=[test_classes[i] for i in preds], index=pred_index)\n",
    "    confusion_matrices.append(confusion_matrix(y_true, y_pred))\n",
    "    kamus = scoring_function(y_true, y_pred)\n",
    "    f1_score = kamus['f1_score']\n",
    "    accuracy_score = kamus['accuracy_score']\n",
    "    f1_scores.append(f1_score)\n",
    "    accuracy_scores.append(accuracy_score)"
   ]
  },
  {
   "cell_type": "code",
   "execution_count": 9,
   "metadata": {},
   "outputs": [
    {
     "name": "stdout",
     "output_type": "stream",
     "text": [
      "[[4886  103]\n",
      " [   0 5011]]\n",
      "\n",
      "\n",
      "[[ 215 4804]\n",
      " [4981    0]]\n",
      "\n",
      "\n",
      "[[  97 4961]\n",
      " [4942    0]]\n",
      "\n",
      "\n",
      "[[ 102 4938]\n",
      " [4951    9]]\n",
      "\n",
      "\n",
      "[[ 300 4734]\n",
      " [4966    0]]\n",
      "\n",
      "\n",
      "[[ 243 4780]\n",
      " [4977    0]]\n",
      "\n",
      "\n",
      "[[4886  175]\n",
      " [   0 4939]]\n",
      "\n",
      "\n",
      "[[ 148 4846]\n",
      " [5006    0]]\n",
      "\n",
      "\n",
      "[[4882   62]\n",
      " [   0 5056]]\n",
      "\n",
      "\n",
      "[[4831  180]\n",
      " [   0 4989]]\n",
      "\n",
      "\n"
     ]
    }
   ],
   "source": [
    "for i in confusion_matrices:\n",
    "    print(i)\n",
    "    print('\\n')"
   ]
  },
  {
   "cell_type": "code",
   "execution_count": 10,
   "metadata": {},
   "outputs": [],
   "source": [
    "import matplotlib.pyplot as plt\n",
    "%matplotlib inline"
   ]
  },
  {
   "cell_type": "code",
   "execution_count": 11,
   "metadata": {},
   "outputs": [
    {
     "data": {
      "text/plain": [
       "[0.9898271604938271,\n",
       " 0.0,\n",
       " 0.0,\n",
       " 0.0018168971434339356,\n",
       " 0.0,\n",
       " 0.0,\n",
       " 0.9825922610166119,\n",
       " 0.0,\n",
       " 0.9939060349911539,\n",
       " 0.9822799763733018]"
      ]
     },
     "execution_count": 11,
     "metadata": {},
     "output_type": "execute_result"
    }
   ],
   "source": [
    "f1_scores"
   ]
  },
  {
   "cell_type": "code",
   "execution_count": 12,
   "metadata": {},
   "outputs": [],
   "source": [
    "corrected_f1_score =list(map(lambda x:(1-x) if x < 0.5 else x, f1_scores))"
   ]
  },
  {
   "cell_type": "code",
   "execution_count": 13,
   "metadata": {},
   "outputs": [],
   "source": [
    "corrected_accuracy_score =list(map(lambda x:(1-x) if x < 0.5 else x, accuracy_scores))"
   ]
  },
  {
   "cell_type": "code",
   "execution_count": 14,
   "metadata": {},
   "outputs": [],
   "source": [
    "import numpy"
   ]
  },
  {
   "cell_type": "code",
   "execution_count": 15,
   "metadata": {},
   "outputs": [
    {
     "data": {
      "text/plain": [
       "0.9946788535731461"
      ]
     },
     "execution_count": 15,
     "metadata": {},
     "output_type": "execute_result"
    }
   ],
   "source": [
    "numpy.array(corrected_f1_score).mean()"
   ]
  },
  {
   "cell_type": "code",
   "execution_count": 16,
   "metadata": {},
   "outputs": [
    {
     "data": {
      "text/plain": [
       "0.006912357117955646"
      ]
     },
     "execution_count": 16,
     "metadata": {},
     "output_type": "execute_result"
    }
   ],
   "source": [
    "numpy.array(corrected_f1_score).std()"
   ]
  },
  {
   "cell_type": "code",
   "execution_count": 17,
   "metadata": {},
   "outputs": [
    {
     "data": {
      "text/plain": [
       "0.9836599999999999"
      ]
     },
     "execution_count": 17,
     "metadata": {},
     "output_type": "execute_result"
    }
   ],
   "source": [
    "numpy.array(corrected_accuracy_score).mean()"
   ]
  },
  {
   "cell_type": "code",
   "execution_count": 18,
   "metadata": {},
   "outputs": [
    {
     "data": {
      "text/plain": [
       "0.007027830390668233"
      ]
     },
     "execution_count": 18,
     "metadata": {},
     "output_type": "execute_result"
    }
   ],
   "source": [
    "numpy.array(corrected_accuracy_score).std()"
   ]
  },
  {
   "cell_type": "code",
   "execution_count": null,
   "metadata": {},
   "outputs": [],
   "source": []
  }
 ],
 "metadata": {
  "kernelspec": {
   "display_name": "Python (earth_hack)",
   "language": "python",
   "name": "earth_hack"
  },
  "language_info": {
   "codemirror_mode": {
    "name": "ipython",
    "version": 3
   },
   "file_extension": ".py",
   "mimetype": "text/x-python",
   "name": "python",
   "nbconvert_exporter": "python",
   "pygments_lexer": "ipython3",
   "version": "3.7.2"
  }
 },
 "nbformat": 4,
 "nbformat_minor": 2
}

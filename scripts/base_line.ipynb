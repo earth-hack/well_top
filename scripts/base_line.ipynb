{
 "cells": [
  {
   "cell_type": "markdown",
   "metadata": {},
   "source": [
    "# Base Case"
   ]
  },
  {
   "cell_type": "code",
   "execution_count": 1,
   "metadata": {},
   "outputs": [],
   "source": [
    "# Feb 23"
   ]
  },
  {
   "cell_type": "code",
   "execution_count": 2,
   "metadata": {},
   "outputs": [],
   "source": [
    "import pandas\n",
    "from sklearn.preprocessing import StandardScaler\n",
    "from sklearn.preprocessing import OrdinalEncoder\n",
    "import lightgbm as lgb\n",
    "from sklearn.metrics import confusion_matrix, classification_report\n",
    "from sklearn.metrics import f1_score"
   ]
  },
  {
   "cell_type": "markdown",
   "metadata": {},
   "source": [
    "# Load data + Preprocess"
   ]
  },
  {
   "cell_type": "code",
   "execution_count": 3,
   "metadata": {},
   "outputs": [],
   "source": [
    "# main = pandas.read_csv('../data/processed/completed_data/mainset.csv', index_col=0)\n",
    "# addi = pandas.read_csv('../data/processed/completed_data/addi.csv', index_col=0)"
   ]
  },
  {
   "cell_type": "code",
   "execution_count": 4,
   "metadata": {},
   "outputs": [],
   "source": [
    "# data = pandas.concat([main.reset_index(), addi.reset_index()], axis=0, sort=False).reset_index(drop=True)"
   ]
  },
  {
   "cell_type": "code",
   "execution_count": 5,
   "metadata": {},
   "outputs": [],
   "source": [
    "# data.rename(columns={'index':'tvdss'}, inplace=True)"
   ]
  },
  {
   "cell_type": "code",
   "execution_count": 6,
   "metadata": {},
   "outputs": [
    {
     "data": {
      "text/plain": [
       "array(['cheal-a10', 'cheal-a11', 'cheal-a12', 'cheal-b8', 'cheal-c3',\n",
       "       'cheal-c4', 'cheal-g1', 'cheal-g2', 'cheal-g3', 'cheal-a6',\n",
       "       'cheal-b1', 'cheal-1', 'cheal-2', 'cheal-a4', 'cheal-a3x',\n",
       "       'cheal-b4', 'cheal-a7'], dtype=object)"
      ]
     },
     "execution_count": 6,
     "metadata": {},
     "output_type": "execute_result"
    }
   ],
   "source": [
    "# data['well'].unique()"
   ]
  },
  {
   "cell_type": "code",
   "execution_count": 7,
   "metadata": {},
   "outputs": [],
   "source": [
    "# data.drop(columns=['md', 'DEPTH', 'tvd', 'TVD'], inplace=True) # 'md'"
   ]
  },
  {
   "cell_type": "code",
   "execution_count": 18,
   "metadata": {},
   "outputs": [
    {
     "data": {
      "text/plain": [
       "Index(['tvdss', 'BS', 'CALI', 'DENS', 'DRHO', 'DTC', 'GR', 'NEUT', 'PEF',\n",
       "       'RESD', 'RESM', 'RESS', 'SP', 'fm', 'well', 'DTS', 'GR_CORR',\n",
       "       'NEUT_CORR', 'RESD_CORR', 'RESS_CORR', 'TEMP', 'TENS'],\n",
       "      dtype='object')"
      ]
     },
     "execution_count": 18,
     "metadata": {},
     "output_type": "execute_result"
    }
   ],
   "source": [
    "# data.columns"
   ]
  },
  {
   "cell_type": "code",
   "execution_count": 21,
   "metadata": {},
   "outputs": [],
   "source": [
    "# data.to_csv('../data/processed/completed_data/datablob.csv')"
   ]
  },
  {
   "cell_type": "code",
   "execution_count": 23,
   "metadata": {},
   "outputs": [],
   "source": [
    "data = pandas.read_csv('../data/processed/completed_data/datablob.csv', index_col=0)"
   ]
  },
  {
   "cell_type": "code",
   "execution_count": 24,
   "metadata": {},
   "outputs": [
    {
     "data": {
      "text/plain": [
       "Index(['tvdss', 'BS', 'CALI', 'DENS', 'DRHO', 'DTC', 'GR', 'NEUT', 'PEF',\n",
       "       'RESD', 'RESM', 'RESS', 'SP', 'fm', 'well', 'DTS', 'GR_CORR',\n",
       "       'NEUT_CORR', 'RESD_CORR', 'RESS_CORR', 'TEMP', 'TENS'],\n",
       "      dtype='object')"
      ]
     },
     "execution_count": 24,
     "metadata": {},
     "output_type": "execute_result"
    }
   ],
   "source": [
    "data.columns"
   ]
  },
  {
   "cell_type": "code",
   "execution_count": 25,
   "metadata": {},
   "outputs": [
    {
     "data": {
      "text/plain": [
       "array(['cheal-a10', 'cheal-a11', 'cheal-a12', 'cheal-b8', 'cheal-c3',\n",
       "       'cheal-c4', 'cheal-g1', 'cheal-g2', 'cheal-g3', 'cheal-a6',\n",
       "       'cheal-b1', 'cheal-1', 'cheal-2', 'cheal-a4', 'cheal-a3x',\n",
       "       'cheal-b4', 'cheal-a7'], dtype=object)"
      ]
     },
     "execution_count": 25,
     "metadata": {},
     "output_type": "execute_result"
    }
   ],
   "source": [
    "data['well'].unique()"
   ]
  },
  {
   "cell_type": "code",
   "execution_count": 26,
   "metadata": {},
   "outputs": [
    {
     "name": "stdout",
     "output_type": "stream",
     "text": [
      "Well removed: cheal-a10\n",
      "0.7852813852813852\n",
      "Well removed: cheal-a11\n",
      "0.897510133178923\n",
      "Well removed: cheal-a12\n",
      "0.8316378038362972\n"
     ]
    },
    {
     "ename": "ValueError",
     "evalue": "Found unknown categories ['MM1 SST', 'Tikorangi LST', 'Lower Manganui Marker'] in column 0 during transform",
     "output_type": "error",
     "traceback": [
      "\u001b[0;31m---------------------------------------------------------------------------\u001b[0m",
      "\u001b[0;31mValueError\u001b[0m                                Traceback (most recent call last)",
      "\u001b[0;32m<ipython-input-26-00bbcd59d94c>\u001b[0m in \u001b[0;36m<module>\u001b[0;34m\u001b[0m\n\u001b[1;32m     53\u001b[0m     \u001b[0moe\u001b[0m\u001b[0;34m.\u001b[0m\u001b[0mfit\u001b[0m\u001b[0;34m(\u001b[0m\u001b[0my_train\u001b[0m\u001b[0;34m.\u001b[0m\u001b[0mvalues\u001b[0m\u001b[0;34m.\u001b[0m\u001b[0mreshape\u001b[0m\u001b[0;34m(\u001b[0m\u001b[0;34m-\u001b[0m\u001b[0;36m1\u001b[0m\u001b[0;34m,\u001b[0m \u001b[0;36m1\u001b[0m\u001b[0;34m)\u001b[0m\u001b[0;34m)\u001b[0m\u001b[0;34m\u001b[0m\u001b[0;34m\u001b[0m\u001b[0m\n\u001b[1;32m     54\u001b[0m     \u001b[0mtransformed_y_train\u001b[0m \u001b[0;34m=\u001b[0m \u001b[0moe\u001b[0m\u001b[0;34m.\u001b[0m\u001b[0mtransform\u001b[0m\u001b[0;34m(\u001b[0m\u001b[0my_train\u001b[0m\u001b[0;34m.\u001b[0m\u001b[0mvalues\u001b[0m\u001b[0;34m.\u001b[0m\u001b[0mreshape\u001b[0m\u001b[0;34m(\u001b[0m\u001b[0;34m-\u001b[0m\u001b[0;36m1\u001b[0m\u001b[0;34m,\u001b[0m \u001b[0;36m1\u001b[0m\u001b[0;34m)\u001b[0m\u001b[0;34m)\u001b[0m\u001b[0;34m\u001b[0m\u001b[0;34m\u001b[0m\u001b[0m\n\u001b[0;32m---> 55\u001b[0;31m     \u001b[0mtransformed_y_test\u001b[0m \u001b[0;34m=\u001b[0m \u001b[0moe\u001b[0m\u001b[0;34m.\u001b[0m\u001b[0mtransform\u001b[0m\u001b[0;34m(\u001b[0m\u001b[0my_test\u001b[0m\u001b[0;34m.\u001b[0m\u001b[0mvalues\u001b[0m\u001b[0;34m.\u001b[0m\u001b[0mreshape\u001b[0m\u001b[0;34m(\u001b[0m\u001b[0;34m-\u001b[0m\u001b[0;36m1\u001b[0m\u001b[0;34m,\u001b[0m \u001b[0;36m1\u001b[0m\u001b[0;34m)\u001b[0m\u001b[0;34m)\u001b[0m\u001b[0;34m\u001b[0m\u001b[0;34m\u001b[0m\u001b[0m\n\u001b[0m\u001b[1;32m     56\u001b[0m \u001b[0;34m\u001b[0m\u001b[0m\n\u001b[1;32m     57\u001b[0m     \u001b[0mnum_class\u001b[0m \u001b[0;34m=\u001b[0m \u001b[0mlen\u001b[0m\u001b[0;34m(\u001b[0m\u001b[0moe\u001b[0m\u001b[0;34m.\u001b[0m\u001b[0mcategories_\u001b[0m\u001b[0;34m[\u001b[0m\u001b[0;36m0\u001b[0m\u001b[0;34m]\u001b[0m\u001b[0;34m)\u001b[0m\u001b[0;34m\u001b[0m\u001b[0;34m\u001b[0m\u001b[0m\n",
      "\u001b[0;32m~/miniconda3/envs/earth_hack/lib/python3.7/site-packages/sklearn/preprocessing/_encoders.py\u001b[0m in \u001b[0;36mtransform\u001b[0;34m(self, X)\u001b[0m\n\u001b[1;32m    810\u001b[0m \u001b[0;34m\u001b[0m\u001b[0m\n\u001b[1;32m    811\u001b[0m         \"\"\"\n\u001b[0;32m--> 812\u001b[0;31m         \u001b[0mX_int\u001b[0m\u001b[0;34m,\u001b[0m \u001b[0m_\u001b[0m \u001b[0;34m=\u001b[0m \u001b[0mself\u001b[0m\u001b[0;34m.\u001b[0m\u001b[0m_transform\u001b[0m\u001b[0;34m(\u001b[0m\u001b[0mX\u001b[0m\u001b[0;34m)\u001b[0m\u001b[0;34m\u001b[0m\u001b[0;34m\u001b[0m\u001b[0m\n\u001b[0m\u001b[1;32m    813\u001b[0m         \u001b[0;32mreturn\u001b[0m \u001b[0mX_int\u001b[0m\u001b[0;34m.\u001b[0m\u001b[0mastype\u001b[0m\u001b[0;34m(\u001b[0m\u001b[0mself\u001b[0m\u001b[0;34m.\u001b[0m\u001b[0mdtype\u001b[0m\u001b[0;34m,\u001b[0m \u001b[0mcopy\u001b[0m\u001b[0;34m=\u001b[0m\u001b[0;32mFalse\u001b[0m\u001b[0;34m)\u001b[0m\u001b[0;34m\u001b[0m\u001b[0;34m\u001b[0m\u001b[0m\n\u001b[1;32m    814\u001b[0m \u001b[0;34m\u001b[0m\u001b[0m\n",
      "\u001b[0;32m~/miniconda3/envs/earth_hack/lib/python3.7/site-packages/sklearn/preprocessing/_encoders.py\u001b[0m in \u001b[0;36m_transform\u001b[0;34m(self, X, handle_unknown)\u001b[0m\n\u001b[1;32m    105\u001b[0m                     msg = (\"Found unknown categories {0} in column {1}\"\n\u001b[1;32m    106\u001b[0m                            \" during transform\".format(diff, i))\n\u001b[0;32m--> 107\u001b[0;31m                     \u001b[0;32mraise\u001b[0m \u001b[0mValueError\u001b[0m\u001b[0;34m(\u001b[0m\u001b[0mmsg\u001b[0m\u001b[0;34m)\u001b[0m\u001b[0;34m\u001b[0m\u001b[0;34m\u001b[0m\u001b[0m\n\u001b[0m\u001b[1;32m    108\u001b[0m                 \u001b[0;32melse\u001b[0m\u001b[0;34m:\u001b[0m\u001b[0;34m\u001b[0m\u001b[0;34m\u001b[0m\u001b[0m\n\u001b[1;32m    109\u001b[0m                     \u001b[0;31m# Set the problematic rows to an acceptable value and\u001b[0m\u001b[0;34m\u001b[0m\u001b[0;34m\u001b[0m\u001b[0;34m\u001b[0m\u001b[0m\n",
      "\u001b[0;31mValueError\u001b[0m: Found unknown categories ['MM1 SST', 'Tikorangi LST', 'Lower Manganui Marker'] in column 0 during transform"
     ]
    }
   ],
   "source": [
    "for remove_well in data['well'].unique():\n",
    "    holdout_data =  data[data['well'] == remove_well]\n",
    "    train_data = data[data['well'] != remove_well]\n",
    "\n",
    "    # Should still randomize the rows before passing to train\n",
    "    train_data = train_data.sample(frac=1).reset_index(drop=True)\n",
    "    holdout_data = holdout_data.sample(frac=1).reset_index(drop=True)\n",
    "\n",
    "    # Store target variable\n",
    "    # Store categorical & numerical variable names\n",
    "    target = 'fm'\n",
    "    cat_names = ['well']\n",
    "    num_names = data.columns.tolist()\n",
    "    num_names.remove('well')\n",
    "    num_names.remove('fm')\n",
    "    \n",
    "    train_data = train_data.dropna(subset=[target])\n",
    "    holdout_data = holdout_data.dropna(subset=[target])\n",
    "    \n",
    "    X_train = train_data.drop(columns=target)\n",
    "    X_test = holdout_data.drop(columns=target)\n",
    "    y_train = train_data[target]\n",
    "    y_test = holdout_data[target]\n",
    "    \n",
    "    scaler = StandardScaler()\n",
    "    scaler.fit(X_train.drop(columns=cat_names))\n",
    "\n",
    "    # Scale X_train's numerical variables\n",
    "    transformed_X_train = scaler.transform(X_train.drop(columns=cat_names))\n",
    "    transformed_X_train = pandas.np.concatenate((transformed_X_train, X_train[cat_names]), axis=1)\n",
    "\n",
    "    # Scale X_test's numerical variables\n",
    "    transformed_X_test = scaler.transform(X_test.drop(columns=cat_names))\n",
    "    transformed_X_test = pandas.np.concatenate((transformed_X_test, X_test[cat_names]), axis=1)\n",
    "\n",
    "    # Need to rebuild as dropping the columns prolly messed w/ the order\n",
    "    feature_names = X_train.drop(columns=cat_names).columns.tolist() + cat_names\n",
    "\n",
    "    # Putting them into df\n",
    "    transformed_X_train = pandas.DataFrame(data=transformed_X_train, columns=feature_names)\n",
    "    transformed_X_test = pandas.DataFrame(data=transformed_X_test, columns=feature_names)\n",
    "\n",
    "    # Change to categorical type\n",
    "    transformed_X_train[cat_names] = transformed_X_train[cat_names].astype('category')\n",
    "    transformed_X_test[cat_names] = transformed_X_test[cat_names].astype('category')\n",
    "\n",
    "    # No idea how this happened but somehow we lost the float datatype to object in the process\n",
    "    transformed_X_train[num_names] = transformed_X_train[num_names].astype(float)\n",
    "    transformed_X_test[num_names] = transformed_X_test[num_names].astype(float)\n",
    "\n",
    "    # Labels was 1 to 9, but we need this to be 0 to 8\n",
    "    oe = OrdinalEncoder()\n",
    "    oe.fit(y_train.values.reshape(-1, 1))\n",
    "    transformed_y_train = oe.transform(y_train.values.reshape(-1, 1))\n",
    "    transformed_y_test = oe.transform(y_test.values.reshape(-1, 1))\n",
    "\n",
    "    num_class = len(oe.categories_[0])\n",
    "\n",
    "    train_data = lgb.Dataset(transformed_X_train, label=transformed_y_train.ravel())\n",
    "    test_data = lgb.Dataset(transformed_X_test, label=transformed_y_test.ravel())\n",
    "\n",
    "    params = {\n",
    "        'objective':'multiclass',\n",
    "        'num_class':num_class,\n",
    "        'metric':'softmax',\n",
    "    }\n",
    "\n",
    "    model = lgb.train(params, train_set=train_data)\n",
    "\n",
    "    # Output is the softmax probabilities so need to grab the class w/ highest confidence\n",
    "    transformed_y_train_hat = pandas.np.argmax(model.predict(transformed_X_train), axis=1)\n",
    "    transformed_y_test_hat = pandas.np.argmax(model.predict(transformed_X_test), axis=1)\n",
    "    print(f'Well removed: {remove_well}')\n",
    "    print(f1_score(transformed_y_test, transformed_y_test_hat, average='micro'))"
   ]
  },
  {
   "cell_type": "code",
   "execution_count": null,
   "metadata": {},
   "outputs": [],
   "source": []
  }
 ],
 "metadata": {
  "kernelspec": {
   "display_name": "Python 3",
   "language": "python",
   "name": "python3"
  },
  "language_info": {
   "codemirror_mode": {
    "name": "ipython",
    "version": 3
   },
   "file_extension": ".py",
   "mimetype": "text/x-python",
   "name": "python",
   "nbconvert_exporter": "python",
   "pygments_lexer": "ipython3",
   "version": "3.7.1"
  }
 },
 "nbformat": 4,
 "nbformat_minor": 2
}
